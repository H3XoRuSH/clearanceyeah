{
  "nbformat": 4,
  "nbformat_minor": 0,
  "metadata": {
    "colab": {
      "name": "Python Crash Course! | July 31 2020",
      "provenance": [],
      "private_outputs": true,
      "collapsed_sections": [],
      "include_colab_link": true
    },
    "kernelspec": {
      "name": "python3",
      "display_name": "Python 3"
    }
  },
  "cells": [
    {
      "cell_type": "markdown",
      "metadata": {
        "id": "view-in-github",
        "colab_type": "text"
      },
      "source": [
        "<a href=\"https://colab.research.google.com/github/H3XoRuSH/clearanceyeah/blob/master/Python_Crash_Course!_%7C_July_31_2020.ipynb\" target=\"_parent\"><img src=\"https://colab.research.google.com/assets/colab-badge.svg\" alt=\"Open In Colab\"/></a>"
      ]
    },
    {
      "cell_type": "markdown",
      "metadata": {
        "id": "tHyA4myYjrE-",
        "colab_type": "text"
      },
      "source": [
        "# Python Crash Course! | July 31 2020\n",
        "\n",
        "## Useful things to know before starting\n",
        " - Python reads like english\n",
        "\n",
        " - Python is an interpreted language\n",
        " \n",
        " - Python relies on tabbing and whitespace to separate blocks of code\n",
        " \n",
        " - Lines which start with `#` in Python are called comments and will not be ran by the program\n",
        "\n",
        " - We will cover the three basic control flow structures\n",
        "  1. Sequential\n",
        "  2. Selection\n",
        "  3. Iteration\n",
        "  "
      ]
    },
    {
      "cell_type": "markdown",
      "metadata": {
        "id": "OZeI3YiHNIqI",
        "colab_type": "text"
      },
      "source": [
        "---"
      ]
    },
    {
      "cell_type": "markdown",
      "metadata": {
        "id": "pOWsBAZW5Yz3",
        "colab_type": "text"
      },
      "source": [
        "# First programs!\n",
        "\n",
        "## Built-in Functions\n",
        "\n",
        " - `print()` - outputs text to display\n",
        " \n",
        " - `input()` - receives input from user"
      ]
    },
    {
      "cell_type": "code",
      "metadata": {
        "id": "R_xslOZ82AnS",
        "colab_type": "code",
        "colab": {}
      },
      "source": [
        "print(\"Hi!!!\")\n",
        "# Output: Hi!!!\n",
        "\n",
        "print( input() )\n",
        "# Output: <whatever you wrote as input>"
      ],
      "execution_count": null,
      "outputs": []
    },
    {
      "cell_type": "markdown",
      "metadata": {
        "id": "AOfHK6-t2KtA",
        "colab_type": "text"
      },
      "source": [
        "## Exercise #1\n",
        "### Write a program that outputs \"Hello World!\" to the display\n"
      ]
    },
    {
      "cell_type": "code",
      "metadata": {
        "id": "k-NCkKTI5g5n",
        "colab_type": "code",
        "colab": {}
      },
      "source": [
        "### Write a program that outputs \"Hello World!\" to the screen\n",
        "\n",
        "print (\"Hello World!\")"
      ],
      "execution_count": null,
      "outputs": []
    },
    {
      "cell_type": "markdown",
      "metadata": {
        "id": "biLOM-y5u4w6",
        "colab_type": "text"
      },
      "source": [
        "---\n",
        "# Variables\n",
        " - Variables are containers for storing data.\n",
        " - They're how we store data, basically we make a container, give it a name, then we can store whatever data we want\n",
        " - **Naming Rules**:\n",
        "    1. A variable name must start with a letter or the underscore character\n",
        "    2. A variable name cannot start with a number\n",
        "    3. A variable name can only contain alpha-numeric characters and underscores (A-z, 0-9, and _ )\n",
        "    4. Variable names are case-sensitive (age, Age and AGE are three different variables)\n",
        "    5. Variable names cannot be the same as python reserve words"
      ]
    },
    {
      "cell_type": "code",
      "metadata": {
        "id": "vxFWB1F-zb45",
        "colab_type": "code",
        "colab": {}
      },
      "source": [
        "# Variable declaration\n",
        "a = \"AWIT SA INYO MGA LODICAKES\"\n",
        "b = 42\n",
        "c = 3.14\n",
        "d = ['TIGIDING', 'TIGIDING', 'TIGIDONG']\n",
        "e = None\n",
        "print(a, b, c, d, e)\n",
        "\n",
        "# Store user input in a variable\n",
        "user_input = input() # You can also put a string as an argument for input\n",
        "print(user_input)"
      ],
      "execution_count": null,
      "outputs": []
    },
    {
      "cell_type": "markdown",
      "metadata": {
        "id": "VDzIzOdINMiA",
        "colab_type": "text"
      },
      "source": [
        "---"
      ]
    },
    {
      "cell_type": "markdown",
      "metadata": {
        "id": "hHnmSxfWyfzi",
        "colab_type": "text"
      },
      "source": [
        "# Data Types\n",
        " - Variables can store data of different types, and different types can do different things.\n",
        " - Examples of commonly used data types:\n",
        "    > Str\n",
        "    \n",
        "    > Int\n",
        "    \n",
        "    > Float\n",
        "    \n",
        "    > List\n",
        "\n",
        "    > Bool\n",
        "    \n",
        "    > None\n",
        " - Python variables are not strongly typed, which means you don't need to declare what datatype a variable should be\n",
        " - *Data types are attached to values and not variables*"
      ]
    },
    {
      "cell_type": "code",
      "metadata": {
        "id": "OXGbJGmy0_F-",
        "colab_type": "code",
        "colab": {}
      },
      "source": [
        "print( type(\"Thank u for supporting my graduation I really appreciate it\") )\n",
        "print( type(42) )\n",
        "\n",
        "x = 3.14\n",
        "print( type(x) )"
      ],
      "execution_count": null,
      "outputs": []
    },
    {
      "cell_type": "markdown",
      "metadata": {
        "id": "iYbMiaU5L0z2",
        "colab_type": "text"
      },
      "source": [
        "## Type Casting\n",
        " - You can convert a value from one datatype to another through type casting\n",
        " - `int()`\n",
        " - `float()`\n",
        " - `str()`"
      ]
    },
    {
      "cell_type": "code",
      "metadata": {
        "id": "6zt5C4DuOndr",
        "colab_type": "code",
        "colab": {}
      },
      "source": [
        "x = 1\n",
        "print(type(x), x)\n",
        "x = float(x)\n",
        "print(type(x), x)\n",
        "x = str(x)\n",
        "print(type(x), x)"
      ],
      "execution_count": null,
      "outputs": []
    },
    {
      "cell_type": "markdown",
      "metadata": {
        "id": "Y06B3CvzNOKl",
        "colab_type": "text"
      },
      "source": [
        "---"
      ]
    },
    {
      "cell_type": "markdown",
      "metadata": {
        "id": "RVXfMuul6sUw",
        "colab_type": "text"
      },
      "source": [
        "## Operators\n",
        " - Used to perform operations on variables and values\n",
        "\n",
        "### Arithmetic Operators\n",
        " -  `+`\tAddition\n",
        " -  `-`\tSubtraction\n",
        " -  `*`\tMultiplication\n",
        " -  `/`\tDivision\n",
        " -  `%`\tModulus\n",
        " -  `**`\tExponentiation\n",
        " -  `//`\tFloor division\n",
        "\n",
        "### Comparison Operators\n",
        " - *Returns a boolean*\n",
        " - `==`\tEqual\tx == y\t\n",
        " - `!=`\tNot equal\tx != y\t\n",
        " - `>`\tGreater than\tx > y\t\n",
        " - `<`\tLess than\tx < y\t\n",
        " - `>=`\tGreater than or equal to\tx >= y\t\n",
        " - `<=`\tLess than or equal to\n",
        "\n",
        "### Logical Operators\n",
        " - `and` Returns True if both statements are true\n",
        " - `or`\tReturns True if one of the statements is true\n",
        " - `not`\tNegates the boolean"
      ]
    },
    {
      "cell_type": "code",
      "metadata": {
        "id": "cRywNjJQKetY",
        "colab_type": "code",
        "colab": {}
      },
      "source": [
        "\n",
        "\n",
        "x = 5\n",
        "y = 2\n",
        "\n",
        "print(\"x + y = \" + str(x + y))\n",
        "print(\"x + y = \" + str(x - y))\n",
        "print(\"x + y = \" + str(x * y))\n",
        "print(\"x + y = \" + str(x / y))\n",
        "print(\"x + y = \" + str(x % y))\n",
        "print(\"x + y = \" + str(x ** y))\n",
        "print(\"x + y = \" + str(x // y))"
      ],
      "execution_count": null,
      "outputs": []
    },
    {
      "cell_type": "markdown",
      "metadata": {
        "id": "37dCVyoUm-8N",
        "colab_type": "text"
      },
      "source": [
        "## Exercise #2\n",
        "\n",
        "### How much are you getting paid?\n",
        "\n",
        "Write a program to prompt the user for hours and rate per hour using input to compute gross pay. \n",
        "\n",
        "*Hint: You should use input to read a string and float() to convert the string to a number.*\n",
        "\n",
        "Ex.\n",
        "```\n",
        "Enter hours > 35\n",
        "Enter rate per hour > 2.75\n",
        "\n",
        "Your pay is 96.25!\n",
        "```"
      ]
    },
    {
      "cell_type": "code",
      "metadata": {
        "id": "h5M5ADnFnNGr",
        "colab_type": "code",
        "colab": {}
      },
      "source": [
        "# Write your program for Exercise #2 here!!!\n",
        "# This first line is provided for you\n",
        "\n",
        "hrs = float(input(\"Enter Hours: \")) # Insert your code below this line\n",
        "rate = float(input(\"Enter Rate per Hour: \"))\n",
        "\n",
        "pay = hrs*rate\n",
        "\n",
        "print (\"Your pay is\", pay, end=\"!\")"
      ],
      "execution_count": null,
      "outputs": []
    },
    {
      "cell_type": "markdown",
      "metadata": {
        "id": "Ku98CEVzNRYH",
        "colab_type": "text"
      },
      "source": [
        "---"
      ]
    },
    {
      "cell_type": "markdown",
      "metadata": {
        "id": "2-C0hQDs3ace",
        "colab_type": "text"
      },
      "source": [
        "## Functions\n",
        "\n",
        " - A function is a block of code which only runs when it is called.\n",
        " - It is mostly used to write easy to maintain and reusable code"
      ]
    },
    {
      "cell_type": "code",
      "metadata": {
        "id": "WeU_yVac40Pl",
        "colab_type": "code",
        "colab": {}
      },
      "source": [
        "def example_function():\n",
        "  print(1)\n",
        "  print(2)\n",
        "  print(3)\n",
        "\n",
        "example_function()\n",
        "example_function()"
      ],
      "execution_count": null,
      "outputs": []
    },
    {
      "cell_type": "markdown",
      "metadata": {
        "id": "sFqQXGUJ5Dq1",
        "colab_type": "text"
      },
      "source": [
        " - Functions can accept arguments which act as temporary variables that the function can use"
      ]
    },
    {
      "cell_type": "code",
      "metadata": {
        "id": "lImUS60I5Tjc",
        "colab_type": "code",
        "colab": {}
      },
      "source": [
        "def function_arguments(num):\n",
        "  print(num)\n",
        "\n",
        "function_arguments(34123)"
      ],
      "execution_count": null,
      "outputs": []
    },
    {
      "cell_type": "markdown",
      "metadata": {
        "id": "hbEoDkLZPvoX",
        "colab_type": "text"
      },
      "source": [
        " - Functions can return values\n",
        " - It produces a value that you can assign to a variable, similar to how expressions such as `6 + 9` can return a value"
      ]
    },
    {
      "cell_type": "code",
      "metadata": {
        "id": "e3CdpK78KoMs",
        "colab_type": "code",
        "colab": {}
      },
      "source": [
        "def add(a, b):\n",
        "  return a + b\n",
        "\n",
        "\n",
        "print(6 + 9)\n",
        "c = add(6, 9)\n",
        "print(c)\n",
        "\n",
        "###############################\n",
        "\n",
        "# As long as what your putting inside your function arguments returns data, it's fine!\n",
        "print( add(c, -3) )"
      ],
      "execution_count": null,
      "outputs": []
    },
    {
      "cell_type": "markdown",
      "metadata": {
        "id": "oUG03Do58hNM",
        "colab_type": "text"
      },
      "source": [
        "# Exercise #3\n",
        "\n",
        "### Average of three numbers\n",
        " - Write a program that displays the average of 3 numbers\n",
        " - The three numbers must come from user input\n",
        " - Use a function to compute for the final value\n"
      ]
    },
    {
      "cell_type": "code",
      "metadata": {
        "id": "uayXMVtr_gyZ",
        "colab_type": "code",
        "colab": {}
      },
      "source": [
        "# Write your program for Exercise #3 here!!!\n",
        "# An empty function is provided for you!\n",
        "\n",
        "def average(a, b, c):\n",
        "  return (a+b+c)/3.0\n",
        "\n",
        "a = float(input())\n",
        "b = float(input())\n",
        "c = float(input())\n",
        "\n",
        "print (average(a,b,c))"
      ],
      "execution_count": null,
      "outputs": []
    },
    {
      "cell_type": "markdown",
      "metadata": {
        "id": "zNChm5j2P-bx",
        "colab_type": "text"
      },
      "source": [
        "---"
      ]
    },
    {
      "cell_type": "markdown",
      "metadata": {
        "id": "ppJKimRG_r2Y",
        "colab_type": "text"
      },
      "source": [
        "## Conditionals\n",
        " - Python conditional statements allows the program to decide which block of code to execute given the result of a condition\n",
        "\n",
        "### If statements\n",
        " - if-statement syntax:\n",
        "  ```\n",
        "  if condition:\n",
        "      code\n",
        "  ```\n",
        "\n",
        " - Code examples:\n",
        "  ```python\n",
        "  name = \"Obama\"\n",
        "  if name == \"Obama\":\n",
        "          print(\"It's the president!\")\n",
        "  print(\"After the if block\")\n",
        "  # Output:\n",
        "  # It's the president!\n",
        "  # After the if block\n",
        "  ```\n",
        "\n",
        "  ```python\n",
        "  name = \"Michael\"\n",
        "  if name == \"Obama\":\n",
        "          print(\"It's the president!\")\n",
        "  print(\"After the if block\")\n",
        "  # Output:\n",
        "  # After the if block\n",
        "  ```\n",
        "\n",
        " - You can put anything as the condition as long as it gives a boolean value\n",
        " - Operations involving the comparison operators and logical operators generally result in boolean values"
      ]
    },
    {
      "cell_type": "code",
      "metadata": {
        "id": "JH_RFVEN_31b",
        "colab_type": "code",
        "colab": {}
      },
      "source": [
        "# Conditionals code block example 1\n",
        "name = \"Obama\"\n",
        "if name == \"Obama\":\n",
        "  print(\"It's the president!\")\n",
        "print(\"After the if block\")"
      ],
      "execution_count": null,
      "outputs": []
    },
    {
      "cell_type": "code",
      "metadata": {
        "id": "CXaF7hCMQ8Qx",
        "colab_type": "code",
        "colab": {}
      },
      "source": [
        "# Conditionals code block example 2\n",
        "name = \"Michael\"\n",
        "if name == \"Obama\":\n",
        "  print(\"It's the president!\")\n",
        "print(\"After the if block\")"
      ],
      "execution_count": null,
      "outputs": []
    },
    {
      "cell_type": "markdown",
      "metadata": {
        "id": "OeC4gjtsUkk2",
        "colab_type": "text"
      },
      "source": [
        "---"
      ]
    },
    {
      "cell_type": "markdown",
      "metadata": {
        "id": "3LH-ayVwS4RT",
        "colab_type": "text"
      },
      "source": [
        "## Elif-Statements\n",
        " - Can only come after an if-statement or another elif-statement\n",
        " - Only runs when the previous conditional statement is false\n",
        " - elif-statement syntax:\n",
        "  ```python\n",
        "  if condition:\n",
        "      code\n",
        "  elif condition:\n",
        "      code\n",
        "  ```\n",
        "  \n",
        " - elif-statements can be chained together!\n",
        " ```python\n",
        "  # This is valid syntax\n",
        "  if condition:\n",
        "      code\n",
        "  elif condition:\n",
        "      code\n",
        "  elif condition:\n",
        "      code\n",
        "  ...\n",
        "  elif condition:\n",
        "      code\n",
        "  ```"
      ]
    },
    {
      "cell_type": "markdown",
      "metadata": {
        "colab_type": "text",
        "id": "Zj27ZZDSABHs"
      },
      "source": [
        "# Exercise #4\n",
        "\n",
        "### Is it higher or lower than the 10?\n",
        " - Write a program that takes a number and displays whether the input is higher, lower, or equal to 10\n",
        " - The number should come from user input\n",
        "\n",
        " Ex.\n",
        " ```python\n",
        " > 5\n",
        " Lower!\n",
        " > 10\n",
        " Equal!\n",
        " > 15\n",
        " Higher!\n",
        " ```\n"
      ]
    },
    {
      "cell_type": "code",
      "metadata": {
        "id": "5n7kzhTwHlmf",
        "colab_type": "code",
        "colab": {}
      },
      "source": [
        "# Write your program for Exercise #4 here!!!\n",
        "a = int(input())\n",
        "if a<10: print (\"Lower!\")\n",
        "elif a==10: print (\"Equal!\")\n",
        "else: print (\"Higher!\")\n",
        "print((a<10)*\"Lower!\"+(a==10)*\"Equal!\"+(a>10)*\"Higher!\")"
      ],
      "execution_count": null,
      "outputs": []
    },
    {
      "cell_type": "markdown",
      "metadata": {
        "id": "wOFAIdxLUg9x",
        "colab_type": "text"
      },
      "source": [
        "---"
      ]
    },
    {
      "cell_type": "markdown",
      "metadata": {
        "id": "dkAHG5loUmzd",
        "colab_type": "text"
      },
      "source": [
        "## Else-Statements\n",
        " - Can only come after an if-statement or an elif-statement\n",
        " - Only runs when all the other conditional statements are false\n",
        " - else-statement syntax:\n",
        "  ```python\n",
        "  if condition:\n",
        "      code\n",
        "  else:\n",
        "      code\n",
        "  ```\n",
        "  \n"
      ]
    },
    {
      "cell_type": "code",
      "metadata": {
        "id": "hfWjTI2fU8as",
        "colab_type": "code",
        "colab": {}
      },
      "source": [
        "name = input(\"Bro who are you?\\t\")\n",
        "if name == \"Obama\":\n",
        "  print(\"It's the president!\")\n",
        "elif name == \"Michael\":\n",
        "  print(\"Yay chipmunk!\")\n",
        "else:\n",
        "  print(\"Soz bro di kita kilala\")\n",
        "print(\"After the if block\")"
      ],
      "execution_count": null,
      "outputs": []
    },
    {
      "cell_type": "markdown",
      "metadata": {
        "id": "11k8zYtHoMAf",
        "colab_type": "text"
      },
      "source": [
        "# Exercise #5\n",
        "Write a program to prompt for a score between 0.0 and 1.0. If the score is out of range, print an error. If the score is between 0.0 and 1.0, print a grade using the following table:\n",
        "```\n",
        "Score Grade:\n",
        "\n",
        ">= 0.9 A\n",
        ">= 0.8 B\n",
        ">= 0.7 C\n",
        ">= 0.6 D\n",
        "< 0.6 F\n",
        "```\n"
      ]
    },
    {
      "cell_type": "code",
      "metadata": {
        "id": "o0giWAqhoXY3",
        "colab_type": "code",
        "colab": {}
      },
      "source": [
        "# Write your program for Exercise #5 here!!!\n",
        "\n",
        "a=float(input(\"Ano grade mo? \"))\n",
        "\n",
        "if a>=0.0 and a<=1.0:\n",
        "  if a>=0.9: print (\"A - Hanggaleng mo na\")\n",
        "  elif a>=0.8: print (\"B - Konti nalang sizt op ka na\")\n",
        "  elif a>=0.7: print (\"C - Ayie samedt\")\n",
        "  elif a>=0.6: print (\"D - Bawi ka next sem ha\")\n",
        "  else: print (\"F - Hoy magsubmit ka naman ng reqs\")\n",
        "else:\n",
        "  print (\"Weh di nga\")\n"
      ],
      "execution_count": null,
      "outputs": []
    },
    {
      "cell_type": "markdown",
      "metadata": {
        "id": "vwRB8T7-nnyI",
        "colab_type": "text"
      },
      "source": [
        "# Exercise #6\n",
        "\n",
        "Write a program to prompt the user for hours and rate per hour using input to compute gross pay. \n",
        "\n",
        " - Pay the hourly rate for the hours up to 40\n",
        " - Pay 1.5x the hourly rate for all hours worked above 40 hours\n",
        "\n",
        "*Hint: You should use input to read a string and float() to convert the string to a number.*\n",
        "\n",
        "\n",
        "Ex.\n",
        "```python\n",
        "Enter hours > 35\n",
        "Enter rate per hour > 2.75\n",
        " \n",
        "Your pay is 96.25!\n",
        "\n",
        "#########################################\n",
        "\n",
        "Enter hours > 45\n",
        "Enter rate per hour > 10.50\n",
        "\n",
        "Your pay is 498.75!\n",
        "```\n",
        "\n",
        "Write a program to prompt the user for hours and rate per hour using input to compute gross pay. Pay the hourly rate for the hours up to 40 and 1.5 times the hourly rate for all hours worked above 40 hours. Use 45 hours and a rate of 10.50 per hour to test the program (the pay should be 498.75). You should use input to read a string and float() to convert the string to a number.\n",
        "\n",
        "The output should be `498.75`"
      ]
    },
    {
      "cell_type": "code",
      "metadata": {
        "id": "fC6jX51Nn1fR",
        "colab_type": "code",
        "colab": {}
      },
      "source": [
        "# Write your program for Exercise #6 here!!!\n",
        "\n",
        "def solve(hour, rate):\n",
        "  answer = min(40, hour) * rate\n",
        "  hour -= 40\n",
        "  if hour: answer += hour * rate * 1.5\n",
        "  return answer\n",
        "\n",
        "hrs = float(input(\"Enter Hours: \")) # Insert your code below this line\n",
        "rate = float(input(\"Enter Rate per Hour: \"))\n",
        "pay = solve(hrs, rate)\n",
        "\n",
        "print (\"Your pay is\", pay, end=\"!\")"
      ],
      "execution_count": null,
      "outputs": []
    },
    {
      "cell_type": "markdown",
      "metadata": {
        "id": "jrxuVf7tR28d",
        "colab_type": "text"
      },
      "source": [
        "---"
      ]
    },
    {
      "cell_type": "markdown",
      "metadata": {
        "id": "GbtoMwvfHN2x",
        "colab_type": "text"
      },
      "source": [
        "## Loops\n",
        " - Loops allow you to repeatedly run blocks of code\n",
        " - There are two types of loops in python\n",
        "  - While loop\n",
        "  - For loop"
      ]
    },
    {
      "cell_type": "markdown",
      "metadata": {
        "id": "LcdkgJDYH_SV",
        "colab_type": "text"
      },
      "source": [
        "### While Loops\n",
        " - While loops repeat a block of code as long as the condition is True\n",
        " - while loop syntax:\n",
        "  ```python\n",
        "  while condition:\n",
        "      code\n",
        "  ```"
      ]
    },
    {
      "cell_type": "code",
      "metadata": {
        "id": "ltEfvxwPSyOk",
        "colab_type": "code",
        "colab": {}
      },
      "source": [
        "# while loop code block example #1\n",
        "\n",
        "x = 0\n",
        "while x < 10:\n",
        "  print(x) \n",
        "\n",
        "  x += 1  # x = x + 1\n"
      ],
      "execution_count": null,
      "outputs": []
    },
    {
      "cell_type": "markdown",
      "metadata": {
        "colab_type": "text",
        "id": "KOXvHHuVFCKl"
      },
      "source": [
        "# Challenge #1\n",
        "\n",
        "### Is it higher or lower than the average?\n",
        " - You have variable n which initially starts at 10\n",
        " - The program takes user input and outputs whether it is higher, lower, or equal to n\n",
        " - After outputting the result, n should become the average of n and all the input numbers\n",
        " - The program should be able to repeatedly take user input\n",
        "\n",
        "Ex:\n",
        "```python\n",
        " (n = 10)\n",
        " > 20\n",
        " Higher! (n = 15)\n",
        " > 3\n",
        " Lower! (n = 11)\n",
        " > 11\n",
        " Equal! (n = 11)\n",
        "```"
      ]
    },
    {
      "cell_type": "code",
      "metadata": {
        "id": "wyAGlNvDHdeq",
        "colab_type": "code",
        "colab": {}
      },
      "source": [
        "# thanks prof Ceej\n",
        "\n",
        "n = 10\n",
        "cnt = 1\n",
        "while cnt <= 5:\n",
        "  a = int(input())\n",
        "  if a<n: print (\"Lower daddy :> (n = \", end=\"\")\n",
        "  elif a==n: print(\"Equal daddy :| (n = \", end=\"\")\n",
        "  else: print(\"Higher daddy :< (n = \", end=\"\")\n",
        "  n = (cnt * n + a) / (cnt + 1)\n",
        "  print (n, end=\")\\n\")\n",
        "  cnt += 1"
      ],
      "execution_count": null,
      "outputs": []
    },
    {
      "cell_type": "markdown",
      "metadata": {
        "colab_type": "text",
        "id": "opnVEcFwIMUa"
      },
      "source": [
        "### For Loops\n",
        "\n",
        " - For loops iterates over a given sequence\n",
        " - For loops allow you to repeat a block of code n number of times using the `range()` function!\n",
        " - For loop syntax:\n",
        "  ```python\n",
        "  for i in sequence:\n",
        "      code\n",
        "  ```"
      ]
    },
    {
      "cell_type": "code",
      "metadata": {
        "id": "SIyBMir_IKqK",
        "colab_type": "code",
        "colab": {}
      },
      "source": [
        "# for loop code block example #1\n",
        "\n",
        "for i in range(10):\n",
        "  print(i)"
      ],
      "execution_count": null,
      "outputs": []
    },
    {
      "cell_type": "code",
      "metadata": {
        "id": "da8qoQg2IeCn",
        "colab_type": "code",
        "colab": {}
      },
      "source": [
        "# for loop code block example #2\n",
        "\n",
        "print(\"These are the squares of the numbers 1-10!\")\n",
        "\n",
        "for i in range(1, 11):\n",
        "  print(i**2)"
      ],
      "execution_count": null,
      "outputs": []
    },
    {
      "cell_type": "markdown",
      "metadata": {
        "id": "lT0IT-q4XGaB",
        "colab_type": "text"
      },
      "source": [
        "## Exercise #7\n",
        "### Compute for the factorial of a given number!\n",
        " - The given number should come from user input"
      ]
    },
    {
      "cell_type": "code",
      "metadata": {
        "id": "C7bvTfqeXaC-",
        "colab_type": "code",
        "colab": {}
      },
      "source": [
        "# Write your program for Exercise #7 here!!!\n",
        "\n",
        "def fact(a):\n",
        "  if a == 1: return 1\n",
        "  return a * fact(a-1)\n",
        "\n",
        "a = int(input(\"Enter number: \"))\n",
        "FACTORIALYEAHSALAMATPROFCEEJ = 1\n",
        "for i in range(2, a+1): FACTORIALYEAHSALAMATPROFCEEJ *= i\n",
        "print (\"%d! = %d\" %(a, FACTORIALYEAHSALAMATPROFCEEJ))"
      ],
      "execution_count": null,
      "outputs": []
    },
    {
      "cell_type": "markdown",
      "metadata": {
        "colab_type": "text",
        "id": "M8sBDQ-UIS_L"
      },
      "source": [
        "# Challenge #2\n",
        "\n",
        "### FizzBuzz!\n",
        " - Write a program that counts from 1 - 100\n",
        " - Output \"Fizz\" if the number is divisible by 3\n",
        " - Output \"Buzz\" if the number is divisible by 5\n",
        "\n",
        "Ex:\n",
        "```python\n",
        "1\n",
        "2\n",
        "Fizz\n",
        "4\n",
        "Buzz\n",
        "Fizz\n",
        "7\n",
        "8\n",
        "Fizz\n",
        "Buzz\n",
        "11\n",
        "Fizz\n",
        "13\n",
        "14\n",
        "FizzBuzz\n",
        "```"
      ]
    },
    {
      "cell_type": "code",
      "metadata": {
        "id": "2_fsFwmyFP75",
        "colab_type": "code",
        "colab": {}
      },
      "source": [
        "for SALAMATSHOPEE in range(1,101):\n",
        "  # haylabyu Prof Ceej\n",
        "  if SALAMATSHOPEE%3 and SALAMATSHOPEE%5: print (SALAMATSHOPEE)\n",
        "  else: print((SALAMATSHOPEE % 3 == 0) * \"Fizz\" + (SALAMATSHOPEE % 5 == 0) * \"Buzz\")"
      ],
      "execution_count": null,
      "outputs": []
    },
    {
      "cell_type": "markdown",
      "metadata": {
        "id": "akcU0GqMEugI",
        "colab_type": "text"
      },
      "source": [
        "## Challenge #3\n",
        "\n",
        "### Human Readable Time\n",
        " - Write a function, which takes a non-negative integer (seconds) as input and returns the time in a human-readable format (HH:MM:SS)\n",
        "\n",
        " > HH = hours, range: 00 - 99\n",
        "\n",
        " > MM = minutes, range: 00 - 59\n",
        "\n",
        " > SS = seconds, range: 00 - 59\n",
        "\n",
        " - The maximum time never exceeds 359999 (99:59:59)\n",
        " - *This challenge was taken from codewars!*"
      ]
    },
    {
      "cell_type": "code",
      "metadata": {
        "id": "aG7Lt_2KFMkM",
        "colab_type": "code",
        "colab": {}
      },
      "source": [
        "def conv(a): # add leading zero\n",
        "  if a <= 9: return \"0\" + str(a)\n",
        "  return str(a)\n",
        "\n",
        "a = int(input())\n",
        "\n",
        "hrs = a // 3600 # (a divided by 60 mins (60*60 = 3600 seconds))\n",
        "mins = (a % 3600) // 60 # (a % 3600 is a without hours, divided by 60 secs)\n",
        "secs = a % 60 # a % 60 are remaining \"not converted\" seconds\n",
        "\n",
        "print(conv(hrs) + \":\" + conv(mins) + \":\" + conv(secs))"
      ],
      "execution_count": null,
      "outputs": []
    },
    {
      "cell_type": "markdown",
      "metadata": {
        "id": "89F1fGyPGOHo",
        "colab_type": "text"
      },
      "source": [
        "# Extra Challenge\n",
        "## Make a simple calculator!\n",
        " - How you wanna do it is up to you, but it should be able to handle the four basic operations\n",
        "\n",
        "Ex.\n",
        "```\n",
        "What operation do you want to use? (+, -, /, *)\n",
        "> +\n",
        "What is the first number?\n",
        "> 3\n",
        "What is the second number?\n",
        "> 5\n",
        "The result is 8!\n",
        "Do you wanna do another calculation? (y/n)\n",
        "> n\n",
        "Bye!\n",
        "```"
      ]
    },
    {
      "cell_type": "code",
      "metadata": {
        "id": "PE9fmd8A7nl7",
        "colab_type": "code",
        "colab": {}
      },
      "source": [
        "# Calculator\n",
        "\n",
        "def check(a):\n",
        "  if a == \"+\" or a == \"-\" or a == \"/\" or a == \"*\": return a\n",
        "  return \"pogi ako\"\n",
        "\n",
        "def main():\n",
        "  choice = str(input(\"What operation do you want to use? (+, -, /, *): \"))\n",
        "  while 1:\n",
        "    if check(choice) != \"pogi ako\":\n",
        "      a = float(input(\"What is the first number? \"))\n",
        "      b = float(input(\"What is the second number? \"))\n",
        "      eqn = str(a)+check(choice)+str(b)\n",
        "      f = lambda x: eval(eqn)\n",
        "      print (\"The result is\", f(69), end=\"!\\n\")\n",
        "      break\n",
        "    else: choice = str(input(\"Error Input\\nWhat operation do you want to use? (+, -, /, *): \"))\n",
        "  retry = str(input(\"Do you wanna do another calculation? (y/n): \"))\n",
        "  while 1:\n",
        "    if retry == \"y\":\n",
        "      main()\n",
        "      break\n",
        "    elif retry == \"n\":\n",
        "      print (\"Bye!\")\n",
        "      break\n",
        "    else: retry = str(input(\"Error Input\\nDo you wanna do another calculation? (y/n): \"))\n",
        "\n",
        "main()"
      ],
      "execution_count": null,
      "outputs": []
    }
  ]
}